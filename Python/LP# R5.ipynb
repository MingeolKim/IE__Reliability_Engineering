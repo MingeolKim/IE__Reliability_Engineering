{
 "cells": [
  {
   "cell_type": "markdown",
   "id": "28ce6b80",
   "metadata": {},
   "source": [
    "# LP# R5"
   ]
  },
  {
   "cell_type": "code",
   "execution_count": 1,
   "id": "7e01953c",
   "metadata": {},
   "outputs": [],
   "source": [
    "import numpy as np\n",
    "import pandas as pd\n",
    "import matplotlib.pyplot as plt\n",
    "import math\n",
    "from scipy.stats import norm"
   ]
  },
  {
   "cell_type": "code",
   "execution_count": 2,
   "id": "3da9acb7",
   "metadata": {},
   "outputs": [
    {
     "data": {
      "text/plain": [
       "array([ 4,  6,  8, 11, 13, 15])"
      ]
     },
     "execution_count": 2,
     "metadata": {},
     "output_type": "execute_result"
    }
   ],
   "source": [
    "x = [4,6,8,11,13,15]\n",
    "t = np.array([4,6,8,11,13,15])\n",
    "t"
   ]
  },
  {
   "cell_type": "code",
   "execution_count": 3,
   "id": "ee166421",
   "metadata": {},
   "outputs": [
    {
     "data": {
      "text/html": [
       "<div>\n",
       "<style scoped>\n",
       "    .dataframe tbody tr th:only-of-type {\n",
       "        vertical-align: middle;\n",
       "    }\n",
       "\n",
       "    .dataframe tbody tr th {\n",
       "        vertical-align: top;\n",
       "    }\n",
       "\n",
       "    .dataframe thead th {\n",
       "        text-align: right;\n",
       "    }\n",
       "</style>\n",
       "<table border=\"1\" class=\"dataframe\">\n",
       "  <thead>\n",
       "    <tr style=\"text-align: right;\">\n",
       "      <th></th>\n",
       "      <th>t</th>\n",
       "    </tr>\n",
       "  </thead>\n",
       "  <tbody>\n",
       "    <tr>\n",
       "      <th>0</th>\n",
       "      <td>4</td>\n",
       "    </tr>\n",
       "    <tr>\n",
       "      <th>1</th>\n",
       "      <td>6</td>\n",
       "    </tr>\n",
       "    <tr>\n",
       "      <th>2</th>\n",
       "      <td>8</td>\n",
       "    </tr>\n",
       "    <tr>\n",
       "      <th>3</th>\n",
       "      <td>11</td>\n",
       "    </tr>\n",
       "    <tr>\n",
       "      <th>4</th>\n",
       "      <td>13</td>\n",
       "    </tr>\n",
       "    <tr>\n",
       "      <th>5</th>\n",
       "      <td>15</td>\n",
       "    </tr>\n",
       "  </tbody>\n",
       "</table>\n",
       "</div>"
      ],
      "text/plain": [
       "    t\n",
       "0   4\n",
       "1   6\n",
       "2   8\n",
       "3  11\n",
       "4  13\n",
       "5  15"
      ]
     },
     "execution_count": 3,
     "metadata": {},
     "output_type": "execute_result"
    }
   ],
   "source": [
    "table = pd.DataFrame(t, columns=['t'])\n",
    "table"
   ]
  },
  {
   "cell_type": "code",
   "execution_count": 6,
   "id": "58fb6efb",
   "metadata": {},
   "outputs": [
    {
     "data": {
      "text/plain": [
       "array([0.02495296, 0.0758978 , 0.13596995, 0.1231367 , 0.05052445,\n",
       "       0.00854512])"
      ]
     },
     "execution_count": 6,
     "metadata": {},
     "output_type": "execute_result"
    }
   ],
   "source": [
    "ft = (4.0 / 10) * (t / 10)**(4.0 - 1.0) * np.exp(-(t / 10)**4.0)\n",
    "ft"
   ]
  },
  {
   "cell_type": "code",
   "execution_count": 7,
   "id": "d6fdcfb5",
   "metadata": {},
   "outputs": [
    {
     "data": {
      "text/html": [
       "<div>\n",
       "<style scoped>\n",
       "    .dataframe tbody tr th:only-of-type {\n",
       "        vertical-align: middle;\n",
       "    }\n",
       "\n",
       "    .dataframe tbody tr th {\n",
       "        vertical-align: top;\n",
       "    }\n",
       "\n",
       "    .dataframe thead th {\n",
       "        text-align: right;\n",
       "    }\n",
       "</style>\n",
       "<table border=\"1\" class=\"dataframe\">\n",
       "  <thead>\n",
       "    <tr style=\"text-align: right;\">\n",
       "      <th></th>\n",
       "      <th>t</th>\n",
       "      <th>f(t)</th>\n",
       "    </tr>\n",
       "  </thead>\n",
       "  <tbody>\n",
       "    <tr>\n",
       "      <th>0</th>\n",
       "      <td>4.0</td>\n",
       "      <td>0.024953</td>\n",
       "    </tr>\n",
       "    <tr>\n",
       "      <th>1</th>\n",
       "      <td>6.0</td>\n",
       "      <td>0.075898</td>\n",
       "    </tr>\n",
       "    <tr>\n",
       "      <th>2</th>\n",
       "      <td>8.0</td>\n",
       "      <td>0.135970</td>\n",
       "    </tr>\n",
       "    <tr>\n",
       "      <th>3</th>\n",
       "      <td>11.0</td>\n",
       "      <td>0.123137</td>\n",
       "    </tr>\n",
       "    <tr>\n",
       "      <th>4</th>\n",
       "      <td>13.0</td>\n",
       "      <td>0.050524</td>\n",
       "    </tr>\n",
       "    <tr>\n",
       "      <th>5</th>\n",
       "      <td>15.0</td>\n",
       "      <td>0.008545</td>\n",
       "    </tr>\n",
       "  </tbody>\n",
       "</table>\n",
       "</div>"
      ],
      "text/plain": [
       "      t      f(t)\n",
       "0   4.0  0.024953\n",
       "1   6.0  0.075898\n",
       "2   8.0  0.135970\n",
       "3  11.0  0.123137\n",
       "4  13.0  0.050524\n",
       "5  15.0  0.008545"
      ]
     },
     "execution_count": 7,
     "metadata": {},
     "output_type": "execute_result"
    }
   ],
   "source": [
    "table = np.c_[t,ft]\n",
    "table = pd.DataFrame(table, columns=['t','f(t)'])\n",
    "table"
   ]
  },
  {
   "cell_type": "code",
   "execution_count": 9,
   "id": "4a7f661c",
   "metadata": {},
   "outputs": [
    {
     "data": {
      "text/plain": [
       "array([0.0252751 , 0.12155326, 0.33608424, 0.76871394, 0.94250746,\n",
       "       0.99367028])"
      ]
     },
     "execution_count": 9,
     "metadata": {},
     "output_type": "execute_result"
    }
   ],
   "source": [
    "Ft = 1-np.exp(-(t/10)**4.0)\n",
    "Ft"
   ]
  },
  {
   "cell_type": "code",
   "execution_count": 10,
   "id": "370de6b7",
   "metadata": {},
   "outputs": [
    {
     "data": {
      "text/html": [
       "<div>\n",
       "<style scoped>\n",
       "    .dataframe tbody tr th:only-of-type {\n",
       "        vertical-align: middle;\n",
       "    }\n",
       "\n",
       "    .dataframe tbody tr th {\n",
       "        vertical-align: top;\n",
       "    }\n",
       "\n",
       "    .dataframe thead th {\n",
       "        text-align: right;\n",
       "    }\n",
       "</style>\n",
       "<table border=\"1\" class=\"dataframe\">\n",
       "  <thead>\n",
       "    <tr style=\"text-align: right;\">\n",
       "      <th></th>\n",
       "      <th>t</th>\n",
       "      <th>f(t)</th>\n",
       "      <th>F(t)</th>\n",
       "    </tr>\n",
       "  </thead>\n",
       "  <tbody>\n",
       "    <tr>\n",
       "      <th>0</th>\n",
       "      <td>4.0</td>\n",
       "      <td>0.024953</td>\n",
       "      <td>0.025275</td>\n",
       "    </tr>\n",
       "    <tr>\n",
       "      <th>1</th>\n",
       "      <td>6.0</td>\n",
       "      <td>0.075898</td>\n",
       "      <td>0.121553</td>\n",
       "    </tr>\n",
       "    <tr>\n",
       "      <th>2</th>\n",
       "      <td>8.0</td>\n",
       "      <td>0.135970</td>\n",
       "      <td>0.336084</td>\n",
       "    </tr>\n",
       "    <tr>\n",
       "      <th>3</th>\n",
       "      <td>11.0</td>\n",
       "      <td>0.123137</td>\n",
       "      <td>0.768714</td>\n",
       "    </tr>\n",
       "    <tr>\n",
       "      <th>4</th>\n",
       "      <td>13.0</td>\n",
       "      <td>0.050524</td>\n",
       "      <td>0.942507</td>\n",
       "    </tr>\n",
       "    <tr>\n",
       "      <th>5</th>\n",
       "      <td>15.0</td>\n",
       "      <td>0.008545</td>\n",
       "      <td>0.993670</td>\n",
       "    </tr>\n",
       "  </tbody>\n",
       "</table>\n",
       "</div>"
      ],
      "text/plain": [
       "      t      f(t)      F(t)\n",
       "0   4.0  0.024953  0.025275\n",
       "1   6.0  0.075898  0.121553\n",
       "2   8.0  0.135970  0.336084\n",
       "3  11.0  0.123137  0.768714\n",
       "4  13.0  0.050524  0.942507\n",
       "5  15.0  0.008545  0.993670"
      ]
     },
     "execution_count": 10,
     "metadata": {},
     "output_type": "execute_result"
    }
   ],
   "source": [
    "table = np.c_[t,ft,Ft]\n",
    "table = pd.DataFrame(table, columns=['t','f(t)','F(t)'])\n",
    "table"
   ]
  },
  {
   "cell_type": "code",
   "execution_count": 11,
   "id": "10a53f21",
   "metadata": {},
   "outputs": [
    {
     "data": {
      "text/plain": [
       "array([0.9747249 , 0.87844674, 0.66391576, 0.23128606, 0.05749254,\n",
       "       0.00632972])"
      ]
     },
     "execution_count": 11,
     "metadata": {},
     "output_type": "execute_result"
    }
   ],
   "source": [
    "Rt = 1-Ft\n",
    "Rt"
   ]
  },
  {
   "cell_type": "code",
   "execution_count": 12,
   "id": "e7f18058",
   "metadata": {},
   "outputs": [
    {
     "data": {
      "text/html": [
       "<div>\n",
       "<style scoped>\n",
       "    .dataframe tbody tr th:only-of-type {\n",
       "        vertical-align: middle;\n",
       "    }\n",
       "\n",
       "    .dataframe tbody tr th {\n",
       "        vertical-align: top;\n",
       "    }\n",
       "\n",
       "    .dataframe thead th {\n",
       "        text-align: right;\n",
       "    }\n",
       "</style>\n",
       "<table border=\"1\" class=\"dataframe\">\n",
       "  <thead>\n",
       "    <tr style=\"text-align: right;\">\n",
       "      <th></th>\n",
       "      <th>t</th>\n",
       "      <th>f(t)</th>\n",
       "      <th>F(t)</th>\n",
       "      <th>R(t)</th>\n",
       "    </tr>\n",
       "  </thead>\n",
       "  <tbody>\n",
       "    <tr>\n",
       "      <th>0</th>\n",
       "      <td>4.0</td>\n",
       "      <td>0.024953</td>\n",
       "      <td>0.025275</td>\n",
       "      <td>0.974725</td>\n",
       "    </tr>\n",
       "    <tr>\n",
       "      <th>1</th>\n",
       "      <td>6.0</td>\n",
       "      <td>0.075898</td>\n",
       "      <td>0.121553</td>\n",
       "      <td>0.878447</td>\n",
       "    </tr>\n",
       "    <tr>\n",
       "      <th>2</th>\n",
       "      <td>8.0</td>\n",
       "      <td>0.135970</td>\n",
       "      <td>0.336084</td>\n",
       "      <td>0.663916</td>\n",
       "    </tr>\n",
       "    <tr>\n",
       "      <th>3</th>\n",
       "      <td>11.0</td>\n",
       "      <td>0.123137</td>\n",
       "      <td>0.768714</td>\n",
       "      <td>0.231286</td>\n",
       "    </tr>\n",
       "    <tr>\n",
       "      <th>4</th>\n",
       "      <td>13.0</td>\n",
       "      <td>0.050524</td>\n",
       "      <td>0.942507</td>\n",
       "      <td>0.057493</td>\n",
       "    </tr>\n",
       "    <tr>\n",
       "      <th>5</th>\n",
       "      <td>15.0</td>\n",
       "      <td>0.008545</td>\n",
       "      <td>0.993670</td>\n",
       "      <td>0.006330</td>\n",
       "    </tr>\n",
       "  </tbody>\n",
       "</table>\n",
       "</div>"
      ],
      "text/plain": [
       "      t      f(t)      F(t)      R(t)\n",
       "0   4.0  0.024953  0.025275  0.974725\n",
       "1   6.0  0.075898  0.121553  0.878447\n",
       "2   8.0  0.135970  0.336084  0.663916\n",
       "3  11.0  0.123137  0.768714  0.231286\n",
       "4  13.0  0.050524  0.942507  0.057493\n",
       "5  15.0  0.008545  0.993670  0.006330"
      ]
     },
     "execution_count": 12,
     "metadata": {},
     "output_type": "execute_result"
    }
   ],
   "source": [
    "table = np.c_[t,ft,Ft,Rt]\n",
    "table = pd.DataFrame(table, columns=['t','f(t)','F(t)','R(t)'])\n",
    "table"
   ]
  },
  {
   "cell_type": "code",
   "execution_count": 13,
   "id": "81972ba4",
   "metadata": {},
   "outputs": [
    {
     "data": {
      "text/plain": [
       "array([0.0256, 0.0864, 0.2048, 0.5324, 0.8788, 1.35  ])"
      ]
     },
     "execution_count": 13,
     "metadata": {},
     "output_type": "execute_result"
    }
   ],
   "source": [
    "lt = ft/Rt\n",
    "lt"
   ]
  },
  {
   "cell_type": "code",
   "execution_count": 14,
   "id": "b6b1d0ee",
   "metadata": {},
   "outputs": [
    {
     "data": {
      "text/html": [
       "<div>\n",
       "<style scoped>\n",
       "    .dataframe tbody tr th:only-of-type {\n",
       "        vertical-align: middle;\n",
       "    }\n",
       "\n",
       "    .dataframe tbody tr th {\n",
       "        vertical-align: top;\n",
       "    }\n",
       "\n",
       "    .dataframe thead th {\n",
       "        text-align: right;\n",
       "    }\n",
       "</style>\n",
       "<table border=\"1\" class=\"dataframe\">\n",
       "  <thead>\n",
       "    <tr style=\"text-align: right;\">\n",
       "      <th></th>\n",
       "      <th>t</th>\n",
       "      <th>f(t)</th>\n",
       "      <th>F(t)</th>\n",
       "      <th>R(t)</th>\n",
       "      <th>λ(t)</th>\n",
       "    </tr>\n",
       "  </thead>\n",
       "  <tbody>\n",
       "    <tr>\n",
       "      <th>0</th>\n",
       "      <td>4.0</td>\n",
       "      <td>0.024953</td>\n",
       "      <td>0.025275</td>\n",
       "      <td>0.974725</td>\n",
       "      <td>0.0256</td>\n",
       "    </tr>\n",
       "    <tr>\n",
       "      <th>1</th>\n",
       "      <td>6.0</td>\n",
       "      <td>0.075898</td>\n",
       "      <td>0.121553</td>\n",
       "      <td>0.878447</td>\n",
       "      <td>0.0864</td>\n",
       "    </tr>\n",
       "    <tr>\n",
       "      <th>2</th>\n",
       "      <td>8.0</td>\n",
       "      <td>0.135970</td>\n",
       "      <td>0.336084</td>\n",
       "      <td>0.663916</td>\n",
       "      <td>0.2048</td>\n",
       "    </tr>\n",
       "    <tr>\n",
       "      <th>3</th>\n",
       "      <td>11.0</td>\n",
       "      <td>0.123137</td>\n",
       "      <td>0.768714</td>\n",
       "      <td>0.231286</td>\n",
       "      <td>0.5324</td>\n",
       "    </tr>\n",
       "    <tr>\n",
       "      <th>4</th>\n",
       "      <td>13.0</td>\n",
       "      <td>0.050524</td>\n",
       "      <td>0.942507</td>\n",
       "      <td>0.057493</td>\n",
       "      <td>0.8788</td>\n",
       "    </tr>\n",
       "    <tr>\n",
       "      <th>5</th>\n",
       "      <td>15.0</td>\n",
       "      <td>0.008545</td>\n",
       "      <td>0.993670</td>\n",
       "      <td>0.006330</td>\n",
       "      <td>1.3500</td>\n",
       "    </tr>\n",
       "  </tbody>\n",
       "</table>\n",
       "</div>"
      ],
      "text/plain": [
       "      t      f(t)      F(t)      R(t)    λ(t)\n",
       "0   4.0  0.024953  0.025275  0.974725  0.0256\n",
       "1   6.0  0.075898  0.121553  0.878447  0.0864\n",
       "2   8.0  0.135970  0.336084  0.663916  0.2048\n",
       "3  11.0  0.123137  0.768714  0.231286  0.5324\n",
       "4  13.0  0.050524  0.942507  0.057493  0.8788\n",
       "5  15.0  0.008545  0.993670  0.006330  1.3500"
      ]
     },
     "execution_count": 14,
     "metadata": {},
     "output_type": "execute_result"
    }
   ],
   "source": [
    "table = np.c_[t,ft,Ft,Rt,lt]\n",
    "table = pd.DataFrame(table, columns=['t','f(t)','F(t)','R(t)','λ(t)'])\n",
    "table"
   ]
  },
  {
   "cell_type": "code",
   "execution_count": 15,
   "id": "ab0119d1",
   "metadata": {},
   "outputs": [
    {
     "data": {
      "image/png": "[encoded data removed]",
      "text/plain": [
       "<Figure size 720x1440 with 4 Axes>"
      ]
     },
     "metadata": {
      "needs_background": "light"
     },
     "output_type": "display_data"
    }
   ],
   "source": [
    "x = np.array([4,6,8,11,13,15])\n",
    "fig,ax=plt.subplots(4,1,figsize=(10,20))\n",
    "\n",
    "\n",
    "ax[0].grid(True)\n",
    "ax[0].title.set_text(\"f(t) Graph\")\n",
    "ax[0].scatter(x,ft)\n",
    "ax[0].plot(x,ft)\n",
    "ax[0].set_xlabel(\"t\")\n",
    "ax[0].set_ylabel(\"f(t)\")\n",
    "\n",
    "ax[1].grid(True)\n",
    "ax[1].title.set_text(\"F(t) Graph\")\n",
    "ax[1].scatter(x,Ft)\n",
    "ax[1].plot(x,Ft)\n",
    "ax[1].set_xlabel(\"t\")\n",
    "ax[1].set_ylabel(\"F(t)\")\n",
    "\n",
    "ax[2].grid(True)\n",
    "ax[2].title.set_text(\"R(t) Graph\")\n",
    "ax[2].scatter(x,Rt)\n",
    "ax[2].plot(x,Rt)\n",
    "ax[2].set_xlabel(\"t\")\n",
    "ax[2].set_ylabel(\"R(t)\")\n",
    "\n",
    "ax[3].grid(True)\n",
    "ax[3].title.set_text(\"λ(t) Graph\")\n",
    "ax[3].scatter(x,lt)\n",
    "ax[3].plot(x,lt)\n",
    "ax[3].set_xlabel(\"t\")\n",
    "ax[3].set_ylabel(\"λ(t)\")\n",
    "\n",
    "plt.tight_layout()\n",
    "plt.show()"
   ]
  },
  {
   "cell_type": "code",
   "execution_count": null,
   "id": "7b542895",
   "metadata": {},
   "outputs": [],
   "source": []
  }
 ],
 "metadata": {
  "kernelspec": {
   "display_name": "Python 3 (ipykernel)",
   "language": "python",
   "name": "python3"
  },
  "language_info": {
   "codemirror_mode": {
    "name": "ipython",
    "version": 3
   },
   "file_extension": ".py",
   "mimetype": "text/x-python",
   "name": "python",
   "nbconvert_exporter": "python",
   "pygments_lexer": "ipython3",
   "version": "3.9.7"
  }
 },
 "nbformat": 4,
 "nbformat_minor": 5
}
