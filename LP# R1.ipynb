{
 "cells": [
  {
   "cell_type": "markdown",
   "id": "079bb824",
   "metadata": {},
   "source": [
    "# LP# R1"
   ]
  },
  {
   "cell_type": "code",
   "execution_count": 1,
   "id": "b84c9491",
   "metadata": {},
   "outputs": [],
   "source": [
    "import numpy as np\n",
    "import pandas as pd\n",
    "import matplotlib.pyplot as plt\n",
    "import math\n",
    "from scipy.stats import norm"
   ]
  },
  {
   "cell_type": "code",
   "execution_count": 3,
   "id": "ea301b19",
   "metadata": {},
   "outputs": [
    {
     "data": {
      "text/plain": [
       "array([ 4,  6,  8, 11, 13, 15])"
      ]
     },
     "execution_count": 3,
     "metadata": {},
     "output_type": "execute_result"
    }
   ],
   "source": [
    "t = np.array([4,6,8,11,13,15])\n",
    "t"
   ]
  },
  {
   "cell_type": "code",
   "execution_count": 4,
   "id": "2b16c6d9",
   "metadata": {},
   "outputs": [
    {
     "data": {
      "text/html": [
       "<div>\n",
       "<style scoped>\n",
       "    .dataframe tbody tr th:only-of-type {\n",
       "        vertical-align: middle;\n",
       "    }\n",
       "\n",
       "    .dataframe tbody tr th {\n",
       "        vertical-align: top;\n",
       "    }\n",
       "\n",
       "    .dataframe thead th {\n",
       "        text-align: right;\n",
       "    }\n",
       "</style>\n",
       "<table border=\"1\" class=\"dataframe\">\n",
       "  <thead>\n",
       "    <tr style=\"text-align: right;\">\n",
       "      <th></th>\n",
       "      <th>t</th>\n",
       "    </tr>\n",
       "  </thead>\n",
       "  <tbody>\n",
       "    <tr>\n",
       "      <th>0</th>\n",
       "      <td>4</td>\n",
       "    </tr>\n",
       "    <tr>\n",
       "      <th>1</th>\n",
       "      <td>6</td>\n",
       "    </tr>\n",
       "    <tr>\n",
       "      <th>2</th>\n",
       "      <td>8</td>\n",
       "    </tr>\n",
       "    <tr>\n",
       "      <th>3</th>\n",
       "      <td>11</td>\n",
       "    </tr>\n",
       "    <tr>\n",
       "      <th>4</th>\n",
       "      <td>13</td>\n",
       "    </tr>\n",
       "    <tr>\n",
       "      <th>5</th>\n",
       "      <td>15</td>\n",
       "    </tr>\n",
       "  </tbody>\n",
       "</table>\n",
       "</div>"
      ],
      "text/plain": [
       "    t\n",
       "0   4\n",
       "1   6\n",
       "2   8\n",
       "3  11\n",
       "4  13\n",
       "5  15"
      ]
     },
     "execution_count": 4,
     "metadata": {},
     "output_type": "execute_result"
    }
   ],
   "source": [
    "table = pd.DataFrame(t, columns=['t'])\n",
    "table"
   ]
  },
  {
   "cell_type": "code",
   "execution_count": 9,
   "id": "97859836",
   "metadata": {},
   "outputs": [
    {
     "data": {
      "text/plain": [
       "array([0.     , 0.00013, 0.05399, 0.24197, 0.00443, 0.     ])"
      ]
     },
     "execution_count": 9,
     "metadata": {},
     "output_type": "execute_result"
    }
   ],
   "source": [
    "np.set_printoptions(precision=5, suppress=True)\n",
    "rv = norm(loc = 10, scale = 1)\n",
    "ft = rv.pdf(t)\n",
    "ft"
   ]
  },
  {
   "cell_type": "code",
   "execution_count": 17,
   "id": "66ec1cd0",
   "metadata": {},
   "outputs": [
    {
     "data": {
      "text/html": [
       "<div>\n",
       "<style scoped>\n",
       "    .dataframe tbody tr th:only-of-type {\n",
       "        vertical-align: middle;\n",
       "    }\n",
       "\n",
       "    .dataframe tbody tr th {\n",
       "        vertical-align: top;\n",
       "    }\n",
       "\n",
       "    .dataframe thead th {\n",
       "        text-align: right;\n",
       "    }\n",
       "</style>\n",
       "<table border=\"1\" class=\"dataframe\">\n",
       "  <thead>\n",
       "    <tr style=\"text-align: right;\">\n",
       "      <th></th>\n",
       "      <th>t</th>\n",
       "      <th>f(t)</th>\n",
       "    </tr>\n",
       "  </thead>\n",
       "  <tbody>\n",
       "    <tr>\n",
       "      <th>0</th>\n",
       "      <td>4.00000</td>\n",
       "      <td>0.00000</td>\n",
       "    </tr>\n",
       "    <tr>\n",
       "      <th>1</th>\n",
       "      <td>6.00000</td>\n",
       "      <td>0.00013</td>\n",
       "    </tr>\n",
       "    <tr>\n",
       "      <th>2</th>\n",
       "      <td>8.00000</td>\n",
       "      <td>0.05399</td>\n",
       "    </tr>\n",
       "    <tr>\n",
       "      <th>3</th>\n",
       "      <td>11.00000</td>\n",
       "      <td>0.24197</td>\n",
       "    </tr>\n",
       "    <tr>\n",
       "      <th>4</th>\n",
       "      <td>13.00000</td>\n",
       "      <td>0.00443</td>\n",
       "    </tr>\n",
       "    <tr>\n",
       "      <th>5</th>\n",
       "      <td>15.00000</td>\n",
       "      <td>0.00000</td>\n",
       "    </tr>\n",
       "  </tbody>\n",
       "</table>\n",
       "</div>"
      ],
      "text/plain": [
       "         t    f(t)\n",
       "0  4.00000 0.00000\n",
       "1  6.00000 0.00013\n",
       "2  8.00000 0.05399\n",
       "3 11.00000 0.24197\n",
       "4 13.00000 0.00443\n",
       "5 15.00000 0.00000"
      ]
     },
     "execution_count": 17,
     "metadata": {},
     "output_type": "execute_result"
    }
   ],
   "source": [
    "pd.options.display.float_format = '{:.5f}'.format\n",
    "table = np.c_[t,ft]\n",
    "table = pd.DataFrame(table, columns=['t','f(t)'])\n",
    "table"
   ]
  },
  {
   "cell_type": "code",
   "execution_count": 18,
   "id": "3df061bb",
   "metadata": {},
   "outputs": [
    {
     "data": {
      "text/plain": [
       "array([0.     , 0.00003, 0.02275, 0.84134, 0.99865, 1.     ])"
      ]
     },
     "execution_count": 18,
     "metadata": {},
     "output_type": "execute_result"
    }
   ],
   "source": [
    "np.set_printoptions(precision=5, suppress=True)\n",
    "rv = norm(loc = 10, scale = 1)\n",
    "Ft = rv.cdf(t)\n",
    "Ft"
   ]
  },
  {
   "cell_type": "code",
   "execution_count": 19,
   "id": "74a87224",
   "metadata": {},
   "outputs": [
    {
     "data": {
      "text/html": [
       "<div>\n",
       "<style scoped>\n",
       "    .dataframe tbody tr th:only-of-type {\n",
       "        vertical-align: middle;\n",
       "    }\n",
       "\n",
       "    .dataframe tbody tr th {\n",
       "        vertical-align: top;\n",
       "    }\n",
       "\n",
       "    .dataframe thead th {\n",
       "        text-align: right;\n",
       "    }\n",
       "</style>\n",
       "<table border=\"1\" class=\"dataframe\">\n",
       "  <thead>\n",
       "    <tr style=\"text-align: right;\">\n",
       "      <th></th>\n",
       "      <th>t</th>\n",
       "      <th>f(t)</th>\n",
       "      <th>F(t)</th>\n",
       "    </tr>\n",
       "  </thead>\n",
       "  <tbody>\n",
       "    <tr>\n",
       "      <th>0</th>\n",
       "      <td>4.00000</td>\n",
       "      <td>0.00000</td>\n",
       "      <td>0.00000</td>\n",
       "    </tr>\n",
       "    <tr>\n",
       "      <th>1</th>\n",
       "      <td>6.00000</td>\n",
       "      <td>0.00013</td>\n",
       "      <td>0.00003</td>\n",
       "    </tr>\n",
       "    <tr>\n",
       "      <th>2</th>\n",
       "      <td>8.00000</td>\n",
       "      <td>0.05399</td>\n",
       "      <td>0.02275</td>\n",
       "    </tr>\n",
       "    <tr>\n",
       "      <th>3</th>\n",
       "      <td>11.00000</td>\n",
       "      <td>0.24197</td>\n",
       "      <td>0.84134</td>\n",
       "    </tr>\n",
       "    <tr>\n",
       "      <th>4</th>\n",
       "      <td>13.00000</td>\n",
       "      <td>0.00443</td>\n",
       "      <td>0.99865</td>\n",
       "    </tr>\n",
       "    <tr>\n",
       "      <th>5</th>\n",
       "      <td>15.00000</td>\n",
       "      <td>0.00000</td>\n",
       "      <td>1.00000</td>\n",
       "    </tr>\n",
       "  </tbody>\n",
       "</table>\n",
       "</div>"
      ],
      "text/plain": [
       "         t    f(t)    F(t)\n",
       "0  4.00000 0.00000 0.00000\n",
       "1  6.00000 0.00013 0.00003\n",
       "2  8.00000 0.05399 0.02275\n",
       "3 11.00000 0.24197 0.84134\n",
       "4 13.00000 0.00443 0.99865\n",
       "5 15.00000 0.00000 1.00000"
      ]
     },
     "execution_count": 19,
     "metadata": {},
     "output_type": "execute_result"
    }
   ],
   "source": [
    "pd.options.display.float_format = '{:.5f}'.format\n",
    "table = np.c_[t,ft,Ft]\n",
    "table = pd.DataFrame(table, columns=['t','f(t)','F(t)'])\n",
    "table"
   ]
  },
  {
   "cell_type": "code",
   "execution_count": 20,
   "id": "4a2bee65",
   "metadata": {},
   "outputs": [
    {
     "data": {
      "text/plain": [
       "array([1.     , 0.99997, 0.97725, 0.15866, 0.00135, 0.     ])"
      ]
     },
     "execution_count": 20,
     "metadata": {},
     "output_type": "execute_result"
    }
   ],
   "source": [
    "Rt = 1 - Ft\n",
    "Rt"
   ]
  },
  {
   "cell_type": "code",
   "execution_count": 21,
   "id": "5381d2cf",
   "metadata": {},
   "outputs": [
    {
     "data": {
      "text/html": [
       "<div>\n",
       "<style scoped>\n",
       "    .dataframe tbody tr th:only-of-type {\n",
       "        vertical-align: middle;\n",
       "    }\n",
       "\n",
       "    .dataframe tbody tr th {\n",
       "        vertical-align: top;\n",
       "    }\n",
       "\n",
       "    .dataframe thead th {\n",
       "        text-align: right;\n",
       "    }\n",
       "</style>\n",
       "<table border=\"1\" class=\"dataframe\">\n",
       "  <thead>\n",
       "    <tr style=\"text-align: right;\">\n",
       "      <th></th>\n",
       "      <th>t</th>\n",
       "      <th>f(t)</th>\n",
       "      <th>F(t)</th>\n",
       "      <th>R(t)</th>\n",
       "    </tr>\n",
       "  </thead>\n",
       "  <tbody>\n",
       "    <tr>\n",
       "      <th>0</th>\n",
       "      <td>4.00000</td>\n",
       "      <td>0.00000</td>\n",
       "      <td>0.00000</td>\n",
       "      <td>1.00000</td>\n",
       "    </tr>\n",
       "    <tr>\n",
       "      <th>1</th>\n",
       "      <td>6.00000</td>\n",
       "      <td>0.00013</td>\n",
       "      <td>0.00003</td>\n",
       "      <td>0.99997</td>\n",
       "    </tr>\n",
       "    <tr>\n",
       "      <th>2</th>\n",
       "      <td>8.00000</td>\n",
       "      <td>0.05399</td>\n",
       "      <td>0.02275</td>\n",
       "      <td>0.97725</td>\n",
       "    </tr>\n",
       "    <tr>\n",
       "      <th>3</th>\n",
       "      <td>11.00000</td>\n",
       "      <td>0.24197</td>\n",
       "      <td>0.84134</td>\n",
       "      <td>0.15866</td>\n",
       "    </tr>\n",
       "    <tr>\n",
       "      <th>4</th>\n",
       "      <td>13.00000</td>\n",
       "      <td>0.00443</td>\n",
       "      <td>0.99865</td>\n",
       "      <td>0.00135</td>\n",
       "    </tr>\n",
       "    <tr>\n",
       "      <th>5</th>\n",
       "      <td>15.00000</td>\n",
       "      <td>0.00000</td>\n",
       "      <td>1.00000</td>\n",
       "      <td>0.00000</td>\n",
       "    </tr>\n",
       "  </tbody>\n",
       "</table>\n",
       "</div>"
      ],
      "text/plain": [
       "         t    f(t)    F(t)    R(t)\n",
       "0  4.00000 0.00000 0.00000 1.00000\n",
       "1  6.00000 0.00013 0.00003 0.99997\n",
       "2  8.00000 0.05399 0.02275 0.97725\n",
       "3 11.00000 0.24197 0.84134 0.15866\n",
       "4 13.00000 0.00443 0.99865 0.00135\n",
       "5 15.00000 0.00000 1.00000 0.00000"
      ]
     },
     "execution_count": 21,
     "metadata": {},
     "output_type": "execute_result"
    }
   ],
   "source": [
    "pd.options.display.float_format = '{:.5f}'.format\n",
    "table = np.c_[t,ft,Ft,Rt]\n",
    "table = pd.DataFrame(table, columns=['t','f(t)','F(t)','R(t)'])\n",
    "table"
   ]
  },
  {
   "cell_type": "code",
   "execution_count": 22,
   "id": "7edb85e6",
   "metadata": {},
   "outputs": [
    {
     "data": {
      "text/plain": [
       "array([0.     , 0.00013, 0.05525, 1.52514, 3.2831 , 5.1865 ])"
      ]
     },
     "execution_count": 22,
     "metadata": {},
     "output_type": "execute_result"
    }
   ],
   "source": [
    "lt = ft / Rt\n",
    "lt"
   ]
  },
  {
   "cell_type": "code",
   "execution_count": 23,
   "id": "3b063907",
   "metadata": {},
   "outputs": [
    {
     "data": {
      "text/html": [
       "<div>\n",
       "<style scoped>\n",
       "    .dataframe tbody tr th:only-of-type {\n",
       "        vertical-align: middle;\n",
       "    }\n",
       "\n",
       "    .dataframe tbody tr th {\n",
       "        vertical-align: top;\n",
       "    }\n",
       "\n",
       "    .dataframe thead th {\n",
       "        text-align: right;\n",
       "    }\n",
       "</style>\n",
       "<table border=\"1\" class=\"dataframe\">\n",
       "  <thead>\n",
       "    <tr style=\"text-align: right;\">\n",
       "      <th></th>\n",
       "      <th>t</th>\n",
       "      <th>f(t)</th>\n",
       "      <th>F(t)</th>\n",
       "      <th>R(t)</th>\n",
       "      <th>λ(t)</th>\n",
       "    </tr>\n",
       "  </thead>\n",
       "  <tbody>\n",
       "    <tr>\n",
       "      <th>0</th>\n",
       "      <td>4.00000</td>\n",
       "      <td>0.00000</td>\n",
       "      <td>0.00000</td>\n",
       "      <td>1.00000</td>\n",
       "      <td>0.00000</td>\n",
       "    </tr>\n",
       "    <tr>\n",
       "      <th>1</th>\n",
       "      <td>6.00000</td>\n",
       "      <td>0.00013</td>\n",
       "      <td>0.00003</td>\n",
       "      <td>0.99997</td>\n",
       "      <td>0.00013</td>\n",
       "    </tr>\n",
       "    <tr>\n",
       "      <th>2</th>\n",
       "      <td>8.00000</td>\n",
       "      <td>0.05399</td>\n",
       "      <td>0.02275</td>\n",
       "      <td>0.97725</td>\n",
       "      <td>0.05525</td>\n",
       "    </tr>\n",
       "    <tr>\n",
       "      <th>3</th>\n",
       "      <td>11.00000</td>\n",
       "      <td>0.24197</td>\n",
       "      <td>0.84134</td>\n",
       "      <td>0.15866</td>\n",
       "      <td>1.52514</td>\n",
       "    </tr>\n",
       "    <tr>\n",
       "      <th>4</th>\n",
       "      <td>13.00000</td>\n",
       "      <td>0.00443</td>\n",
       "      <td>0.99865</td>\n",
       "      <td>0.00135</td>\n",
       "      <td>3.28310</td>\n",
       "    </tr>\n",
       "    <tr>\n",
       "      <th>5</th>\n",
       "      <td>15.00000</td>\n",
       "      <td>0.00000</td>\n",
       "      <td>1.00000</td>\n",
       "      <td>0.00000</td>\n",
       "      <td>5.18650</td>\n",
       "    </tr>\n",
       "  </tbody>\n",
       "</table>\n",
       "</div>"
      ],
      "text/plain": [
       "         t    f(t)    F(t)    R(t)    λ(t)\n",
       "0  4.00000 0.00000 0.00000 1.00000 0.00000\n",
       "1  6.00000 0.00013 0.00003 0.99997 0.00013\n",
       "2  8.00000 0.05399 0.02275 0.97725 0.05525\n",
       "3 11.00000 0.24197 0.84134 0.15866 1.52514\n",
       "4 13.00000 0.00443 0.99865 0.00135 3.28310\n",
       "5 15.00000 0.00000 1.00000 0.00000 5.18650"
      ]
     },
     "execution_count": 23,
     "metadata": {},
     "output_type": "execute_result"
    }
   ],
   "source": [
    "pd.options.display.float_format = '{:.5f}'.format\n",
    "table = np.c_[t,ft,Ft,Rt,lt]\n",
    "table = pd.DataFrame(table, columns=['t','f(t)','F(t)','R(t)','λ(t)'])\n",
    "table"
   ]
  },
  {
   "cell_type": "code",
   "execution_count": 24,
   "id": "e79ad8a7",
   "metadata": {},
   "outputs": [
    {
     "data": {
      "image/png": "[encoded data removed]",
      "text/plain": [
       "<Figure size 720x1440 with 4 Axes>"
      ]
     },
     "metadata": {
      "needs_background": "light"
     },
     "output_type": "display_data"
    }
   ],
   "source": [
    "\n",
    "x = np.array([4,6,8,11,13,15])\n",
    "fig,ax=plt.subplots(4,1,figsize=(10,20))\n",
    "\n",
    "\n",
    "ax[0].grid(True)\n",
    "ax[0].title.set_text(\"f(t) Graph\")\n",
    "ax[0].scatter(x,ft)\n",
    "ax[0].plot(x,ft)\n",
    "ax[0].set_xlabel(\"t\")\n",
    "ax[0].set_ylabel(\"f(t)\")\n",
    "\n",
    "ax[1].grid(True)\n",
    "ax[1].title.set_text(\"F(t) Graph\")\n",
    "ax[1].scatter(x,Ft)\n",
    "ax[1].plot(x,Ft)\n",
    "ax[1].set_xlabel(\"t\")\n",
    "ax[1].set_ylabel(\"F(t)\")\n",
    "\n",
    "ax[2].grid(True)\n",
    "ax[2].title.set_text(\"R(t) Graph\")\n",
    "ax[2].scatter(x,Rt)\n",
    "ax[2].plot(x,Rt)\n",
    "ax[2].set_xlabel(\"t\")\n",
    "ax[2].set_ylabel(\"R(t)\")\n",
    "\n",
    "ax[3].grid(True)\n",
    "ax[3].title.set_text(\"λ(t) Graph\")\n",
    "ax[3].scatter(x,lt)\n",
    "ax[3].plot(x,lt)\n",
    "ax[3].set_xlabel(\"t\")\n",
    "ax[3].set_ylabel(\"λ(t)\")\n",
    "\n",
    "plt.tight_layout()\n",
    "plt.show()"
   ]
  }
 ],
 "metadata": {
  "kernelspec": {
   "display_name": "Python 3 (ipykernel)",
   "language": "python",
   "name": "python3"
  },
  "language_info": {
   "codemirror_mode": {
    "name": "ipython",
    "version": 3
   },
   "file_extension": ".py",
   "mimetype": "text/x-python",
   "name": "python",
   "nbconvert_exporter": "python",
   "pygments_lexer": "ipython3",
   "version": "3.9.7"
  }
 },
 "nbformat": 4,
 "nbformat_minor": 5
}
