{
 "cells": [
  {
   "cell_type": "markdown",
   "id": "73df7b9d",
   "metadata": {},
   "source": [
    "# LP# R4"
   ]
  },
  {
   "cell_type": "code",
   "execution_count": 2,
   "id": "7e01953c",
   "metadata": {},
   "outputs": [],
   "source": [
    "import numpy as np\n",
    "import pandas as pd\n",
    "import matplotlib.pyplot as plt\n",
    "import math\n",
    "from scipy.stats import norm"
   ]
  },
  {
   "cell_type": "code",
   "execution_count": 3,
   "id": "3da9acb7",
   "metadata": {},
   "outputs": [
    {
     "data": {
      "text/plain": [
       "array([ 4,  6,  8, 11, 13, 15])"
      ]
     },
     "execution_count": 3,
     "metadata": {},
     "output_type": "execute_result"
    }
   ],
   "source": [
    "x = [4,6,8,11,13,15]\n",
    "t = np.array([4,6,8,11,13,15])\n",
    "t"
   ]
  },
  {
   "cell_type": "code",
   "execution_count": 4,
   "id": "ee166421",
   "metadata": {},
   "outputs": [
    {
     "data": {
      "text/html": [
       "<div>\n",
       "<style scoped>\n",
       "    .dataframe tbody tr th:only-of-type {\n",
       "        vertical-align: middle;\n",
       "    }\n",
       "\n",
       "    .dataframe tbody tr th {\n",
       "        vertical-align: top;\n",
       "    }\n",
       "\n",
       "    .dataframe thead th {\n",
       "        text-align: right;\n",
       "    }\n",
       "</style>\n",
       "<table border=\"1\" class=\"dataframe\">\n",
       "  <thead>\n",
       "    <tr style=\"text-align: right;\">\n",
       "      <th></th>\n",
       "      <th>t</th>\n",
       "    </tr>\n",
       "  </thead>\n",
       "  <tbody>\n",
       "    <tr>\n",
       "      <th>0</th>\n",
       "      <td>4</td>\n",
       "    </tr>\n",
       "    <tr>\n",
       "      <th>1</th>\n",
       "      <td>6</td>\n",
       "    </tr>\n",
       "    <tr>\n",
       "      <th>2</th>\n",
       "      <td>8</td>\n",
       "    </tr>\n",
       "    <tr>\n",
       "      <th>3</th>\n",
       "      <td>11</td>\n",
       "    </tr>\n",
       "    <tr>\n",
       "      <th>4</th>\n",
       "      <td>13</td>\n",
       "    </tr>\n",
       "    <tr>\n",
       "      <th>5</th>\n",
       "      <td>15</td>\n",
       "    </tr>\n",
       "  </tbody>\n",
       "</table>\n",
       "</div>"
      ],
      "text/plain": [
       "    t\n",
       "0   4\n",
       "1   6\n",
       "2   8\n",
       "3  11\n",
       "4  13\n",
       "5  15"
      ]
     },
     "execution_count": 4,
     "metadata": {},
     "output_type": "execute_result"
    }
   ],
   "source": [
    "table = pd.DataFrame(t, columns=['t'])\n",
    "table"
   ]
  },
  {
   "cell_type": "code",
   "execution_count": 5,
   "id": "58fb6efb",
   "metadata": {},
   "outputs": [
    {
     "data": {
      "text/plain": [
       "array([0.067032  , 0.05488116, 0.0449329 , 0.03328711, 0.02725318,\n",
       "       0.02231302])"
      ]
     },
     "execution_count": 5,
     "metadata": {},
     "output_type": "execute_result"
    }
   ],
   "source": [
    "ft = (1 / 10) * (t / 10)**(1 - 1) * np.exp(-(t / 10)**1)\n",
    "ft"
   ]
  },
  {
   "cell_type": "code",
   "execution_count": 6,
   "id": "d6fdcfb5",
   "metadata": {},
   "outputs": [
    {
     "data": {
      "text/html": [
       "<div>\n",
       "<style scoped>\n",
       "    .dataframe tbody tr th:only-of-type {\n",
       "        vertical-align: middle;\n",
       "    }\n",
       "\n",
       "    .dataframe tbody tr th {\n",
       "        vertical-align: top;\n",
       "    }\n",
       "\n",
       "    .dataframe thead th {\n",
       "        text-align: right;\n",
       "    }\n",
       "</style>\n",
       "<table border=\"1\" class=\"dataframe\">\n",
       "  <thead>\n",
       "    <tr style=\"text-align: right;\">\n",
       "      <th></th>\n",
       "      <th>t</th>\n",
       "      <th>f(t)</th>\n",
       "    </tr>\n",
       "  </thead>\n",
       "  <tbody>\n",
       "    <tr>\n",
       "      <th>0</th>\n",
       "      <td>4.0</td>\n",
       "      <td>0.067032</td>\n",
       "    </tr>\n",
       "    <tr>\n",
       "      <th>1</th>\n",
       "      <td>6.0</td>\n",
       "      <td>0.054881</td>\n",
       "    </tr>\n",
       "    <tr>\n",
       "      <th>2</th>\n",
       "      <td>8.0</td>\n",
       "      <td>0.044933</td>\n",
       "    </tr>\n",
       "    <tr>\n",
       "      <th>3</th>\n",
       "      <td>11.0</td>\n",
       "      <td>0.033287</td>\n",
       "    </tr>\n",
       "    <tr>\n",
       "      <th>4</th>\n",
       "      <td>13.0</td>\n",
       "      <td>0.027253</td>\n",
       "    </tr>\n",
       "    <tr>\n",
       "      <th>5</th>\n",
       "      <td>15.0</td>\n",
       "      <td>0.022313</td>\n",
       "    </tr>\n",
       "  </tbody>\n",
       "</table>\n",
       "</div>"
      ],
      "text/plain": [
       "      t      f(t)\n",
       "0   4.0  0.067032\n",
       "1   6.0  0.054881\n",
       "2   8.0  0.044933\n",
       "3  11.0  0.033287\n",
       "4  13.0  0.027253\n",
       "5  15.0  0.022313"
      ]
     },
     "execution_count": 6,
     "metadata": {},
     "output_type": "execute_result"
    }
   ],
   "source": [
    "table = np.c_[t,ft]\n",
    "table = pd.DataFrame(table, columns=['t','f(t)'])\n",
    "table"
   ]
  },
  {
   "cell_type": "code",
   "execution_count": 8,
   "id": "4a7f661c",
   "metadata": {},
   "outputs": [
    {
     "data": {
      "text/plain": [
       "array([0.32967995, 0.45118836, 0.55067104, 0.66712892, 0.72746821,\n",
       "       0.77686984])"
      ]
     },
     "execution_count": 8,
     "metadata": {},
     "output_type": "execute_result"
    }
   ],
   "source": [
    "Ft = 1-np.exp(-(t/10)**1)\n",
    "Ft"
   ]
  },
  {
   "cell_type": "code",
   "execution_count": 9,
   "id": "370de6b7",
   "metadata": {},
   "outputs": [
    {
     "data": {
      "text/html": [
       "<div>\n",
       "<style scoped>\n",
       "    .dataframe tbody tr th:only-of-type {\n",
       "        vertical-align: middle;\n",
       "    }\n",
       "\n",
       "    .dataframe tbody tr th {\n",
       "        vertical-align: top;\n",
       "    }\n",
       "\n",
       "    .dataframe thead th {\n",
       "        text-align: right;\n",
       "    }\n",
       "</style>\n",
       "<table border=\"1\" class=\"dataframe\">\n",
       "  <thead>\n",
       "    <tr style=\"text-align: right;\">\n",
       "      <th></th>\n",
       "      <th>t</th>\n",
       "      <th>f(t)</th>\n",
       "      <th>F(t)</th>\n",
       "    </tr>\n",
       "  </thead>\n",
       "  <tbody>\n",
       "    <tr>\n",
       "      <th>0</th>\n",
       "      <td>4.0</td>\n",
       "      <td>0.067032</td>\n",
       "      <td>0.329680</td>\n",
       "    </tr>\n",
       "    <tr>\n",
       "      <th>1</th>\n",
       "      <td>6.0</td>\n",
       "      <td>0.054881</td>\n",
       "      <td>0.451188</td>\n",
       "    </tr>\n",
       "    <tr>\n",
       "      <th>2</th>\n",
       "      <td>8.0</td>\n",
       "      <td>0.044933</td>\n",
       "      <td>0.550671</td>\n",
       "    </tr>\n",
       "    <tr>\n",
       "      <th>3</th>\n",
       "      <td>11.0</td>\n",
       "      <td>0.033287</td>\n",
       "      <td>0.667129</td>\n",
       "    </tr>\n",
       "    <tr>\n",
       "      <th>4</th>\n",
       "      <td>13.0</td>\n",
       "      <td>0.027253</td>\n",
       "      <td>0.727468</td>\n",
       "    </tr>\n",
       "    <tr>\n",
       "      <th>5</th>\n",
       "      <td>15.0</td>\n",
       "      <td>0.022313</td>\n",
       "      <td>0.776870</td>\n",
       "    </tr>\n",
       "  </tbody>\n",
       "</table>\n",
       "</div>"
      ],
      "text/plain": [
       "      t      f(t)      F(t)\n",
       "0   4.0  0.067032  0.329680\n",
       "1   6.0  0.054881  0.451188\n",
       "2   8.0  0.044933  0.550671\n",
       "3  11.0  0.033287  0.667129\n",
       "4  13.0  0.027253  0.727468\n",
       "5  15.0  0.022313  0.776870"
      ]
     },
     "execution_count": 9,
     "metadata": {},
     "output_type": "execute_result"
    }
   ],
   "source": [
    "table = np.c_[t,ft,Ft]\n",
    "table = pd.DataFrame(table, columns=['t','f(t)','F(t)'])\n",
    "table"
   ]
  },
  {
   "cell_type": "code",
   "execution_count": 10,
   "id": "10a53f21",
   "metadata": {},
   "outputs": [
    {
     "data": {
      "text/plain": [
       "array([0.67032005, 0.54881164, 0.44932896, 0.33287108, 0.27253179,\n",
       "       0.22313016])"
      ]
     },
     "execution_count": 10,
     "metadata": {},
     "output_type": "execute_result"
    }
   ],
   "source": [
    "Rt = 1-Ft\n",
    "Rt"
   ]
  },
  {
   "cell_type": "code",
   "execution_count": 11,
   "id": "e7f18058",
   "metadata": {},
   "outputs": [
    {
     "data": {
      "text/html": [
       "<div>\n",
       "<style scoped>\n",
       "    .dataframe tbody tr th:only-of-type {\n",
       "        vertical-align: middle;\n",
       "    }\n",
       "\n",
       "    .dataframe tbody tr th {\n",
       "        vertical-align: top;\n",
       "    }\n",
       "\n",
       "    .dataframe thead th {\n",
       "        text-align: right;\n",
       "    }\n",
       "</style>\n",
       "<table border=\"1\" class=\"dataframe\">\n",
       "  <thead>\n",
       "    <tr style=\"text-align: right;\">\n",
       "      <th></th>\n",
       "      <th>t</th>\n",
       "      <th>f(t)</th>\n",
       "      <th>F(t)</th>\n",
       "      <th>R(t)</th>\n",
       "    </tr>\n",
       "  </thead>\n",
       "  <tbody>\n",
       "    <tr>\n",
       "      <th>0</th>\n",
       "      <td>4.0</td>\n",
       "      <td>0.067032</td>\n",
       "      <td>0.329680</td>\n",
       "      <td>0.670320</td>\n",
       "    </tr>\n",
       "    <tr>\n",
       "      <th>1</th>\n",
       "      <td>6.0</td>\n",
       "      <td>0.054881</td>\n",
       "      <td>0.451188</td>\n",
       "      <td>0.548812</td>\n",
       "    </tr>\n",
       "    <tr>\n",
       "      <th>2</th>\n",
       "      <td>8.0</td>\n",
       "      <td>0.044933</td>\n",
       "      <td>0.550671</td>\n",
       "      <td>0.449329</td>\n",
       "    </tr>\n",
       "    <tr>\n",
       "      <th>3</th>\n",
       "      <td>11.0</td>\n",
       "      <td>0.033287</td>\n",
       "      <td>0.667129</td>\n",
       "      <td>0.332871</td>\n",
       "    </tr>\n",
       "    <tr>\n",
       "      <th>4</th>\n",
       "      <td>13.0</td>\n",
       "      <td>0.027253</td>\n",
       "      <td>0.727468</td>\n",
       "      <td>0.272532</td>\n",
       "    </tr>\n",
       "    <tr>\n",
       "      <th>5</th>\n",
       "      <td>15.0</td>\n",
       "      <td>0.022313</td>\n",
       "      <td>0.776870</td>\n",
       "      <td>0.223130</td>\n",
       "    </tr>\n",
       "  </tbody>\n",
       "</table>\n",
       "</div>"
      ],
      "text/plain": [
       "      t      f(t)      F(t)      R(t)\n",
       "0   4.0  0.067032  0.329680  0.670320\n",
       "1   6.0  0.054881  0.451188  0.548812\n",
       "2   8.0  0.044933  0.550671  0.449329\n",
       "3  11.0  0.033287  0.667129  0.332871\n",
       "4  13.0  0.027253  0.727468  0.272532\n",
       "5  15.0  0.022313  0.776870  0.223130"
      ]
     },
     "execution_count": 11,
     "metadata": {},
     "output_type": "execute_result"
    }
   ],
   "source": [
    "table = np.c_[t,ft,Ft,Rt]\n",
    "table = pd.DataFrame(table, columns=['t','f(t)','F(t)','R(t)'])\n",
    "table"
   ]
  },
  {
   "cell_type": "code",
   "execution_count": 12,
   "id": "81972ba4",
   "metadata": {},
   "outputs": [
    {
     "data": {
      "text/plain": [
       "array([0.1, 0.1, 0.1, 0.1, 0.1, 0.1])"
      ]
     },
     "execution_count": 12,
     "metadata": {},
     "output_type": "execute_result"
    }
   ],
   "source": [
    "lt = ft/Rt\n",
    "lt"
   ]
  },
  {
   "cell_type": "code",
   "execution_count": 13,
   "id": "b6b1d0ee",
   "metadata": {},
   "outputs": [
    {
     "data": {
      "text/html": [
       "<div>\n",
       "<style scoped>\n",
       "    .dataframe tbody tr th:only-of-type {\n",
       "        vertical-align: middle;\n",
       "    }\n",
       "\n",
       "    .dataframe tbody tr th {\n",
       "        vertical-align: top;\n",
       "    }\n",
       "\n",
       "    .dataframe thead th {\n",
       "        text-align: right;\n",
       "    }\n",
       "</style>\n",
       "<table border=\"1\" class=\"dataframe\">\n",
       "  <thead>\n",
       "    <tr style=\"text-align: right;\">\n",
       "      <th></th>\n",
       "      <th>t</th>\n",
       "      <th>f(t)</th>\n",
       "      <th>F(t)</th>\n",
       "      <th>R(t)</th>\n",
       "      <th>λ(t)</th>\n",
       "    </tr>\n",
       "  </thead>\n",
       "  <tbody>\n",
       "    <tr>\n",
       "      <th>0</th>\n",
       "      <td>4.0</td>\n",
       "      <td>0.067032</td>\n",
       "      <td>0.329680</td>\n",
       "      <td>0.670320</td>\n",
       "      <td>0.1</td>\n",
       "    </tr>\n",
       "    <tr>\n",
       "      <th>1</th>\n",
       "      <td>6.0</td>\n",
       "      <td>0.054881</td>\n",
       "      <td>0.451188</td>\n",
       "      <td>0.548812</td>\n",
       "      <td>0.1</td>\n",
       "    </tr>\n",
       "    <tr>\n",
       "      <th>2</th>\n",
       "      <td>8.0</td>\n",
       "      <td>0.044933</td>\n",
       "      <td>0.550671</td>\n",
       "      <td>0.449329</td>\n",
       "      <td>0.1</td>\n",
       "    </tr>\n",
       "    <tr>\n",
       "      <th>3</th>\n",
       "      <td>11.0</td>\n",
       "      <td>0.033287</td>\n",
       "      <td>0.667129</td>\n",
       "      <td>0.332871</td>\n",
       "      <td>0.1</td>\n",
       "    </tr>\n",
       "    <tr>\n",
       "      <th>4</th>\n",
       "      <td>13.0</td>\n",
       "      <td>0.027253</td>\n",
       "      <td>0.727468</td>\n",
       "      <td>0.272532</td>\n",
       "      <td>0.1</td>\n",
       "    </tr>\n",
       "    <tr>\n",
       "      <th>5</th>\n",
       "      <td>15.0</td>\n",
       "      <td>0.022313</td>\n",
       "      <td>0.776870</td>\n",
       "      <td>0.223130</td>\n",
       "      <td>0.1</td>\n",
       "    </tr>\n",
       "  </tbody>\n",
       "</table>\n",
       "</div>"
      ],
      "text/plain": [
       "      t      f(t)      F(t)      R(t)  λ(t)\n",
       "0   4.0  0.067032  0.329680  0.670320   0.1\n",
       "1   6.0  0.054881  0.451188  0.548812   0.1\n",
       "2   8.0  0.044933  0.550671  0.449329   0.1\n",
       "3  11.0  0.033287  0.667129  0.332871   0.1\n",
       "4  13.0  0.027253  0.727468  0.272532   0.1\n",
       "5  15.0  0.022313  0.776870  0.223130   0.1"
      ]
     },
     "execution_count": 13,
     "metadata": {},
     "output_type": "execute_result"
    }
   ],
   "source": [
    "table = np.c_[t,ft,Ft,Rt,lt]\n",
    "table = pd.DataFrame(table, columns=['t','f(t)','F(t)','R(t)','λ(t)'])\n",
    "table"
   ]
  },
  {
   "cell_type": "code",
   "execution_count": 14,
   "id": "ab0119d1",
   "metadata": {},
   "outputs": [
    {
     "data": {
      "image/png": "[encoded data removed]",
      "text/plain": [
       "<Figure size 720x1440 with 4 Axes>"
      ]
     },
     "metadata": {
      "needs_background": "light"
     },
     "output_type": "display_data"
    }
   ],
   "source": [
    "x = np.array([4,6,8,11,13,15])\n",
    "fig,ax=plt.subplots(4,1,figsize=(10,20))\n",
    "\n",
    "\n",
    "ax[0].grid(True)\n",
    "ax[0].title.set_text(\"f(t) Graph\")\n",
    "ax[0].scatter(x,ft)\n",
    "ax[0].plot(x,ft)\n",
    "ax[0].set_xlabel(\"t\")\n",
    "ax[0].set_ylabel(\"f(t)\")\n",
    "\n",
    "ax[1].grid(True)\n",
    "ax[1].title.set_text(\"F(t) Graph\")\n",
    "ax[1].scatter(x,Ft)\n",
    "ax[1].plot(x,Ft)\n",
    "ax[1].set_xlabel(\"t\")\n",
    "ax[1].set_ylabel(\"F(t)\")\n",
    "\n",
    "ax[2].grid(True)\n",
    "ax[2].title.set_text(\"R(t) Graph\")\n",
    "ax[2].scatter(x,Rt)\n",
    "ax[2].plot(x,Rt)\n",
    "ax[2].set_xlabel(\"t\")\n",
    "ax[2].set_ylabel(\"R(t)\")\n",
    "\n",
    "ax[3].grid(True)\n",
    "ax[3].title.set_text(\"λ(t) Graph\")\n",
    "ax[3].scatter(x,lt)\n",
    "ax[3].plot(x,lt)\n",
    "ax[3].set_xlabel(\"t\")\n",
    "ax[3].set_ylabel(\"λ(t)\")\n",
    "\n",
    "plt.tight_layout()\n",
    "plt.show()"
   ]
  },
  {
   "cell_type": "code",
   "execution_count": null,
   "id": "e8c48523",
   "metadata": {},
   "outputs": [],
   "source": []
  }
 ],
 "metadata": {
  "kernelspec": {
   "display_name": "Python 3 (ipykernel)",
   "language": "python",
   "name": "python3"
  },
  "language_info": {
   "codemirror_mode": {
    "name": "ipython",
    "version": 3
   },
   "file_extension": ".py",
   "mimetype": "text/x-python",
   "name": "python",
   "nbconvert_exporter": "python",
   "pygments_lexer": "ipython3",
   "version": "3.9.7"
  }
 },
 "nbformat": 4,
 "nbformat_minor": 5
}
