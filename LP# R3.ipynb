{
 "cells": [
  {
   "cell_type": "markdown",
   "id": "e871af03",
   "metadata": {},
   "source": [
    "# LP# R3"
   ]
  },
  {
   "cell_type": "code",
   "execution_count": 1,
   "id": "7e01953c",
   "metadata": {},
   "outputs": [],
   "source": [
    "import numpy as np\n",
    "import pandas as pd\n",
    "import matplotlib.pyplot as plt\n",
    "import math\n",
    "from scipy.stats import norm"
   ]
  },
  {
   "cell_type": "code",
   "execution_count": 20,
   "id": "3da9acb7",
   "metadata": {},
   "outputs": [
    {
     "data": {
      "text/plain": [
       "array([ 4,  6,  8, 11, 13, 15])"
      ]
     },
     "execution_count": 20,
     "metadata": {},
     "output_type": "execute_result"
    }
   ],
   "source": [
    "x = [4,6,8,11,13,15]\n",
    "t = np.array([4,6,8,11,13,15])\n",
    "t"
   ]
  },
  {
   "cell_type": "code",
   "execution_count": 21,
   "id": "ee166421",
   "metadata": {},
   "outputs": [
    {
     "data": {
      "text/html": [
       "<div>\n",
       "<style scoped>\n",
       "    .dataframe tbody tr th:only-of-type {\n",
       "        vertical-align: middle;\n",
       "    }\n",
       "\n",
       "    .dataframe tbody tr th {\n",
       "        vertical-align: top;\n",
       "    }\n",
       "\n",
       "    .dataframe thead th {\n",
       "        text-align: right;\n",
       "    }\n",
       "</style>\n",
       "<table border=\"1\" class=\"dataframe\">\n",
       "  <thead>\n",
       "    <tr style=\"text-align: right;\">\n",
       "      <th></th>\n",
       "      <th>t</th>\n",
       "    </tr>\n",
       "  </thead>\n",
       "  <tbody>\n",
       "    <tr>\n",
       "      <th>0</th>\n",
       "      <td>4</td>\n",
       "    </tr>\n",
       "    <tr>\n",
       "      <th>1</th>\n",
       "      <td>6</td>\n",
       "    </tr>\n",
       "    <tr>\n",
       "      <th>2</th>\n",
       "      <td>8</td>\n",
       "    </tr>\n",
       "    <tr>\n",
       "      <th>3</th>\n",
       "      <td>11</td>\n",
       "    </tr>\n",
       "    <tr>\n",
       "      <th>4</th>\n",
       "      <td>13</td>\n",
       "    </tr>\n",
       "    <tr>\n",
       "      <th>5</th>\n",
       "      <td>15</td>\n",
       "    </tr>\n",
       "  </tbody>\n",
       "</table>\n",
       "</div>"
      ],
      "text/plain": [
       "    t\n",
       "0   4\n",
       "1   6\n",
       "2   8\n",
       "3  11\n",
       "4  13\n",
       "5  15"
      ]
     },
     "execution_count": 21,
     "metadata": {},
     "output_type": "execute_result"
    }
   ],
   "source": [
    "table = pd.DataFrame(t, columns=['t'])\n",
    "table"
   ]
  },
  {
   "cell_type": "code",
   "execution_count": 22,
   "id": "58fb6efb",
   "metadata": {},
   "outputs": [
    {
     "data": {
      "text/plain": [
       "array([0.03383382, 0.01762359, 0.01044852, 0.00546867, 0.00376814,\n",
       "       0.00268478])"
      ]
     },
     "execution_count": 22,
     "metadata": {},
     "output_type": "execute_result"
    }
   ],
   "source": [
    "ft = (0.5 / 1.0) * (t / 1.0)**(0.5 - 1.0) * np.exp(-(t / 1.0)**0.5)\n",
    "ft"
   ]
  },
  {
   "cell_type": "code",
   "execution_count": 24,
   "id": "d6fdcfb5",
   "metadata": {},
   "outputs": [
    {
     "data": {
      "text/html": [
       "<div>\n",
       "<style scoped>\n",
       "    .dataframe tbody tr th:only-of-type {\n",
       "        vertical-align: middle;\n",
       "    }\n",
       "\n",
       "    .dataframe tbody tr th {\n",
       "        vertical-align: top;\n",
       "    }\n",
       "\n",
       "    .dataframe thead th {\n",
       "        text-align: right;\n",
       "    }\n",
       "</style>\n",
       "<table border=\"1\" class=\"dataframe\">\n",
       "  <thead>\n",
       "    <tr style=\"text-align: right;\">\n",
       "      <th></th>\n",
       "      <th>t</th>\n",
       "      <th>f(t)</th>\n",
       "    </tr>\n",
       "  </thead>\n",
       "  <tbody>\n",
       "    <tr>\n",
       "      <th>0</th>\n",
       "      <td>4.0</td>\n",
       "      <td>0.033834</td>\n",
       "    </tr>\n",
       "    <tr>\n",
       "      <th>1</th>\n",
       "      <td>6.0</td>\n",
       "      <td>0.017624</td>\n",
       "    </tr>\n",
       "    <tr>\n",
       "      <th>2</th>\n",
       "      <td>8.0</td>\n",
       "      <td>0.010449</td>\n",
       "    </tr>\n",
       "    <tr>\n",
       "      <th>3</th>\n",
       "      <td>11.0</td>\n",
       "      <td>0.005469</td>\n",
       "    </tr>\n",
       "    <tr>\n",
       "      <th>4</th>\n",
       "      <td>13.0</td>\n",
       "      <td>0.003768</td>\n",
       "    </tr>\n",
       "    <tr>\n",
       "      <th>5</th>\n",
       "      <td>15.0</td>\n",
       "      <td>0.002685</td>\n",
       "    </tr>\n",
       "  </tbody>\n",
       "</table>\n",
       "</div>"
      ],
      "text/plain": [
       "      t      f(t)\n",
       "0   4.0  0.033834\n",
       "1   6.0  0.017624\n",
       "2   8.0  0.010449\n",
       "3  11.0  0.005469\n",
       "4  13.0  0.003768\n",
       "5  15.0  0.002685"
      ]
     },
     "execution_count": 24,
     "metadata": {},
     "output_type": "execute_result"
    }
   ],
   "source": [
    "table = np.c_[t,ft]\n",
    "table = pd.DataFrame(table, columns=['t','f(t)'])\n",
    "table"
   ]
  },
  {
   "cell_type": "code",
   "execution_count": 25,
   "id": "4a7f661c",
   "metadata": {},
   "outputs": [
    {
     "data": {
      "text/plain": [
       "array([0.86466472, 0.91366237, 0.94089425, 0.96372494, 0.97282754,\n",
       "       0.97920377])"
      ]
     },
     "execution_count": 25,
     "metadata": {},
     "output_type": "execute_result"
    }
   ],
   "source": [
    "Ft = 1-np.exp(-(t/1.0)**0.5)\n",
    "Ft"
   ]
  },
  {
   "cell_type": "code",
   "execution_count": 26,
   "id": "370de6b7",
   "metadata": {},
   "outputs": [
    {
     "data": {
      "text/html": [
       "<div>\n",
       "<style scoped>\n",
       "    .dataframe tbody tr th:only-of-type {\n",
       "        vertical-align: middle;\n",
       "    }\n",
       "\n",
       "    .dataframe tbody tr th {\n",
       "        vertical-align: top;\n",
       "    }\n",
       "\n",
       "    .dataframe thead th {\n",
       "        text-align: right;\n",
       "    }\n",
       "</style>\n",
       "<table border=\"1\" class=\"dataframe\">\n",
       "  <thead>\n",
       "    <tr style=\"text-align: right;\">\n",
       "      <th></th>\n",
       "      <th>t</th>\n",
       "      <th>f(t)</th>\n",
       "      <th>F(t)</th>\n",
       "    </tr>\n",
       "  </thead>\n",
       "  <tbody>\n",
       "    <tr>\n",
       "      <th>0</th>\n",
       "      <td>4.0</td>\n",
       "      <td>0.033834</td>\n",
       "      <td>0.864665</td>\n",
       "    </tr>\n",
       "    <tr>\n",
       "      <th>1</th>\n",
       "      <td>6.0</td>\n",
       "      <td>0.017624</td>\n",
       "      <td>0.913662</td>\n",
       "    </tr>\n",
       "    <tr>\n",
       "      <th>2</th>\n",
       "      <td>8.0</td>\n",
       "      <td>0.010449</td>\n",
       "      <td>0.940894</td>\n",
       "    </tr>\n",
       "    <tr>\n",
       "      <th>3</th>\n",
       "      <td>11.0</td>\n",
       "      <td>0.005469</td>\n",
       "      <td>0.963725</td>\n",
       "    </tr>\n",
       "    <tr>\n",
       "      <th>4</th>\n",
       "      <td>13.0</td>\n",
       "      <td>0.003768</td>\n",
       "      <td>0.972828</td>\n",
       "    </tr>\n",
       "    <tr>\n",
       "      <th>5</th>\n",
       "      <td>15.0</td>\n",
       "      <td>0.002685</td>\n",
       "      <td>0.979204</td>\n",
       "    </tr>\n",
       "  </tbody>\n",
       "</table>\n",
       "</div>"
      ],
      "text/plain": [
       "      t      f(t)      F(t)\n",
       "0   4.0  0.033834  0.864665\n",
       "1   6.0  0.017624  0.913662\n",
       "2   8.0  0.010449  0.940894\n",
       "3  11.0  0.005469  0.963725\n",
       "4  13.0  0.003768  0.972828\n",
       "5  15.0  0.002685  0.979204"
      ]
     },
     "execution_count": 26,
     "metadata": {},
     "output_type": "execute_result"
    }
   ],
   "source": [
    "table = np.c_[t,ft,Ft]\n",
    "table = pd.DataFrame(table, columns=['t','f(t)','F(t)'])\n",
    "table"
   ]
  },
  {
   "cell_type": "code",
   "execution_count": 27,
   "id": "10a53f21",
   "metadata": {},
   "outputs": [
    {
     "data": {
      "text/plain": [
       "array([0.13533528, 0.08633763, 0.05910575, 0.03627506, 0.02717246,\n",
       "       0.02079623])"
      ]
     },
     "execution_count": 27,
     "metadata": {},
     "output_type": "execute_result"
    }
   ],
   "source": [
    "Rt = 1-Ft\n",
    "Rt"
   ]
  },
  {
   "cell_type": "code",
   "execution_count": 28,
   "id": "e7f18058",
   "metadata": {},
   "outputs": [
    {
     "data": {
      "text/html": [
       "<div>\n",
       "<style scoped>\n",
       "    .dataframe tbody tr th:only-of-type {\n",
       "        vertical-align: middle;\n",
       "    }\n",
       "\n",
       "    .dataframe tbody tr th {\n",
       "        vertical-align: top;\n",
       "    }\n",
       "\n",
       "    .dataframe thead th {\n",
       "        text-align: right;\n",
       "    }\n",
       "</style>\n",
       "<table border=\"1\" class=\"dataframe\">\n",
       "  <thead>\n",
       "    <tr style=\"text-align: right;\">\n",
       "      <th></th>\n",
       "      <th>t</th>\n",
       "      <th>f(t)</th>\n",
       "      <th>F(t)</th>\n",
       "      <th>R(t)</th>\n",
       "    </tr>\n",
       "  </thead>\n",
       "  <tbody>\n",
       "    <tr>\n",
       "      <th>0</th>\n",
       "      <td>4.0</td>\n",
       "      <td>0.033834</td>\n",
       "      <td>0.864665</td>\n",
       "      <td>0.135335</td>\n",
       "    </tr>\n",
       "    <tr>\n",
       "      <th>1</th>\n",
       "      <td>6.0</td>\n",
       "      <td>0.017624</td>\n",
       "      <td>0.913662</td>\n",
       "      <td>0.086338</td>\n",
       "    </tr>\n",
       "    <tr>\n",
       "      <th>2</th>\n",
       "      <td>8.0</td>\n",
       "      <td>0.010449</td>\n",
       "      <td>0.940894</td>\n",
       "      <td>0.059106</td>\n",
       "    </tr>\n",
       "    <tr>\n",
       "      <th>3</th>\n",
       "      <td>11.0</td>\n",
       "      <td>0.005469</td>\n",
       "      <td>0.963725</td>\n",
       "      <td>0.036275</td>\n",
       "    </tr>\n",
       "    <tr>\n",
       "      <th>4</th>\n",
       "      <td>13.0</td>\n",
       "      <td>0.003768</td>\n",
       "      <td>0.972828</td>\n",
       "      <td>0.027172</td>\n",
       "    </tr>\n",
       "    <tr>\n",
       "      <th>5</th>\n",
       "      <td>15.0</td>\n",
       "      <td>0.002685</td>\n",
       "      <td>0.979204</td>\n",
       "      <td>0.020796</td>\n",
       "    </tr>\n",
       "  </tbody>\n",
       "</table>\n",
       "</div>"
      ],
      "text/plain": [
       "      t      f(t)      F(t)      R(t)\n",
       "0   4.0  0.033834  0.864665  0.135335\n",
       "1   6.0  0.017624  0.913662  0.086338\n",
       "2   8.0  0.010449  0.940894  0.059106\n",
       "3  11.0  0.005469  0.963725  0.036275\n",
       "4  13.0  0.003768  0.972828  0.027172\n",
       "5  15.0  0.002685  0.979204  0.020796"
      ]
     },
     "execution_count": 28,
     "metadata": {},
     "output_type": "execute_result"
    }
   ],
   "source": [
    "table = np.c_[t,ft,Ft,Rt]\n",
    "table = pd.DataFrame(table, columns=['t','f(t)','F(t)','R(t)'])\n",
    "table"
   ]
  },
  {
   "cell_type": "code",
   "execution_count": 29,
   "id": "81972ba4",
   "metadata": {},
   "outputs": [
    {
     "data": {
      "text/plain": [
       "array([0.25      , 0.20412415, 0.1767767 , 0.15075567, 0.13867505,\n",
       "       0.12909944])"
      ]
     },
     "execution_count": 29,
     "metadata": {},
     "output_type": "execute_result"
    }
   ],
   "source": [
    "lt = ft/Rt\n",
    "lt"
   ]
  },
  {
   "cell_type": "code",
   "execution_count": 30,
   "id": "b6b1d0ee",
   "metadata": {},
   "outputs": [
    {
     "data": {
      "text/html": [
       "<div>\n",
       "<style scoped>\n",
       "    .dataframe tbody tr th:only-of-type {\n",
       "        vertical-align: middle;\n",
       "    }\n",
       "\n",
       "    .dataframe tbody tr th {\n",
       "        vertical-align: top;\n",
       "    }\n",
       "\n",
       "    .dataframe thead th {\n",
       "        text-align: right;\n",
       "    }\n",
       "</style>\n",
       "<table border=\"1\" class=\"dataframe\">\n",
       "  <thead>\n",
       "    <tr style=\"text-align: right;\">\n",
       "      <th></th>\n",
       "      <th>t</th>\n",
       "      <th>f(t)</th>\n",
       "      <th>F(t)</th>\n",
       "      <th>R(t)</th>\n",
       "      <th>λ(t)</th>\n",
       "    </tr>\n",
       "  </thead>\n",
       "  <tbody>\n",
       "    <tr>\n",
       "      <th>0</th>\n",
       "      <td>4.0</td>\n",
       "      <td>0.033834</td>\n",
       "      <td>0.864665</td>\n",
       "      <td>0.135335</td>\n",
       "      <td>0.250000</td>\n",
       "    </tr>\n",
       "    <tr>\n",
       "      <th>1</th>\n",
       "      <td>6.0</td>\n",
       "      <td>0.017624</td>\n",
       "      <td>0.913662</td>\n",
       "      <td>0.086338</td>\n",
       "      <td>0.204124</td>\n",
       "    </tr>\n",
       "    <tr>\n",
       "      <th>2</th>\n",
       "      <td>8.0</td>\n",
       "      <td>0.010449</td>\n",
       "      <td>0.940894</td>\n",
       "      <td>0.059106</td>\n",
       "      <td>0.176777</td>\n",
       "    </tr>\n",
       "    <tr>\n",
       "      <th>3</th>\n",
       "      <td>11.0</td>\n",
       "      <td>0.005469</td>\n",
       "      <td>0.963725</td>\n",
       "      <td>0.036275</td>\n",
       "      <td>0.150756</td>\n",
       "    </tr>\n",
       "    <tr>\n",
       "      <th>4</th>\n",
       "      <td>13.0</td>\n",
       "      <td>0.003768</td>\n",
       "      <td>0.972828</td>\n",
       "      <td>0.027172</td>\n",
       "      <td>0.138675</td>\n",
       "    </tr>\n",
       "    <tr>\n",
       "      <th>5</th>\n",
       "      <td>15.0</td>\n",
       "      <td>0.002685</td>\n",
       "      <td>0.979204</td>\n",
       "      <td>0.020796</td>\n",
       "      <td>0.129099</td>\n",
       "    </tr>\n",
       "  </tbody>\n",
       "</table>\n",
       "</div>"
      ],
      "text/plain": [
       "      t      f(t)      F(t)      R(t)      λ(t)\n",
       "0   4.0  0.033834  0.864665  0.135335  0.250000\n",
       "1   6.0  0.017624  0.913662  0.086338  0.204124\n",
       "2   8.0  0.010449  0.940894  0.059106  0.176777\n",
       "3  11.0  0.005469  0.963725  0.036275  0.150756\n",
       "4  13.0  0.003768  0.972828  0.027172  0.138675\n",
       "5  15.0  0.002685  0.979204  0.020796  0.129099"
      ]
     },
     "execution_count": 30,
     "metadata": {},
     "output_type": "execute_result"
    }
   ],
   "source": [
    "table = np.c_[t,ft,Ft,Rt,lt]\n",
    "table = pd.DataFrame(table, columns=['t','f(t)','F(t)','R(t)','λ(t)'])\n",
    "table"
   ]
  },
  {
   "cell_type": "code",
   "execution_count": 31,
   "id": "ab0119d1",
   "metadata": {},
   "outputs": [
    {
     "data": {
      "image/png": "[encoded data removed]",
      "text/plain": [
       "<Figure size 720x1440 with 4 Axes>"
      ]
     },
     "metadata": {
      "needs_background": "light"
     },
     "output_type": "display_data"
    }
   ],
   "source": [
    "x = np.array([4,6,8,11,13,15])\n",
    "fig,ax=plt.subplots(4,1,figsize=(10,20))\n",
    "\n",
    "\n",
    "ax[0].grid(True)\n",
    "ax[0].title.set_text(\"f(t) Graph\")\n",
    "ax[0].scatter(x,ft)\n",
    "ax[0].plot(x,ft)\n",
    "ax[0].set_xlabel(\"t\")\n",
    "ax[0].set_ylabel(\"f(t)\")\n",
    "\n",
    "ax[1].grid(True)\n",
    "ax[1].title.set_text(\"F(t) Graph\")\n",
    "ax[1].scatter(x,Ft)\n",
    "ax[1].plot(x,Ft)\n",
    "ax[1].set_xlabel(\"t\")\n",
    "ax[1].set_ylabel(\"F(t)\")\n",
    "\n",
    "ax[2].grid(True)\n",
    "ax[2].title.set_text(\"R(t) Graph\")\n",
    "ax[2].scatter(x,Rt)\n",
    "ax[2].plot(x,Rt)\n",
    "ax[2].set_xlabel(\"t\")\n",
    "ax[2].set_ylabel(\"R(t)\")\n",
    "\n",
    "ax[3].grid(True)\n",
    "ax[3].title.set_text(\"λ(t) Graph\")\n",
    "ax[3].scatter(x,lt)\n",
    "ax[3].plot(x,lt)\n",
    "ax[3].set_xlabel(\"t\")\n",
    "ax[3].set_ylabel(\"λ(t)\")\n",
    "\n",
    "plt.tight_layout()\n",
    "plt.show()"
   ]
  }
 ],
 "metadata": {
  "kernelspec": {
   "display_name": "Python 3 (ipykernel)",
   "language": "python",
   "name": "python3"
  },
  "language_info": {
   "codemirror_mode": {
    "name": "ipython",
    "version": 3
   },
   "file_extension": ".py",
   "mimetype": "text/x-python",
   "name": "python",
   "nbconvert_exporter": "python",
   "pygments_lexer": "ipython3",
   "version": "3.9.7"
  }
 },
 "nbformat": 4,
 "nbformat_minor": 5
}
